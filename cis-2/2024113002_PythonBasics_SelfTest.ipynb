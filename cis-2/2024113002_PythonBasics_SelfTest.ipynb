{
  "cells": [
    {
      "cell_type": "code",
      "execution_count": null,
      "metadata": {
        "id": "-tUWRz_6cDtR"
      },
      "outputs": [],
      "source": []
    },
    {
      "cell_type": "markdown",
      "metadata": {
        "id": "PQmVPtLWiKue"
      },
      "source": [
        "# Assignment: Basic Python Concepts\n",
        "## Problem: Variables and Data Types\n",
        "Create a Python script that does the following:\n",
        "\n",
        "1. Defines a variable x and assigns it an integer value.\n",
        "2. Defines a variable y and assigns it a floating-point value.\n",
        "3. Defines a variable z and assigns it a string value.\n",
        "4. Defines a variable a and assigns it a boolean value.\n",
        "5. Prints the value and data type of each variable.\n"
      ]
    },
    {
      "cell_type": "code",
      "execution_count": 9,
      "metadata": {
        "id": "d0fxu9u9iyWu"
      },
      "outputs": [
        {
          "name": "stdout",
          "output_type": "stream",
          "text": [
            "variable x =  55 of type =  <class 'int'>\n",
            "variable y =  26.6 of type =  <class 'float'>\n",
            "variable z =  hello of type =  <class 'str'>\n",
            "variable a =  True of type =  <class 'bool'>\n"
          ]
        }
      ],
      "source": [
        "x = 55\n",
        "y = 26.6\n",
        "z = 'hello'\n",
        "a = True\n",
        "print(\"variable x = \", x, \"of type = \", type(x))\n",
        "print(\"variable y = \", y, \"of type = \", type(y))\n",
        "print(\"variable z = \", z, \"of type = \", type(z))\n",
        "print(\"variable a = \", a, \"of type = \", type(a))"
      ]
    },
    {
      "cell_type": "markdown",
      "metadata": {
        "id": "zs6qX6NJiphd"
      },
      "source": [
        "# Problem: Control Structures\n",
        "## Create a Python script that does the following:\n",
        "\n",
        "1. Defines a list of integers from 1 to 10.\n",
        "2. Uses a for loop to print each element of the list.\n",
        "3. Uses a while loop to print the sum of the elements in the list.\n"
      ]
    },
    {
      "cell_type": "code",
      "execution_count": 16,
      "metadata": {
        "id": "XBMAF7Jziz4G"
      },
      "outputs": [
        {
          "name": "stdout",
          "output_type": "stream",
          "text": [
            "1 2 3 4 5 6 7 8 9 10 \n",
            "sum = 55\n"
          ]
        }
      ],
      "source": [
        "l1=()\n",
        "l1 = list(range(1,11))\n",
        "\n",
        "i=0\n",
        "for i in range(0,10):\n",
        "    print(l1[i], end =\" \")\n",
        "\n",
        "j=0\n",
        "sum = 0\n",
        "print()\n",
        "print(\"sum =\", end=\" \")\n",
        "while j != 10:\n",
        "    sum+=l1[j]\n",
        "    j+=1\n",
        "\n",
        "print(sum)"
      ]
    },
    {
      "cell_type": "markdown",
      "metadata": {
        "id": "a2C5gRxvjRGk"
      },
      "source": [
        "# Problem Set: Matplotlib Basics\n"
      ]
    },
    {
      "cell_type": "markdown",
      "metadata": {
        "id": "wcCYiSC0idj4"
      },
      "source": [
        "## Problem : Line Plot\n",
        "\n",
        "Create a Python script that does the following:\n",
        "\n",
        "1. Imports the matplotlib.pyplot module as plt.\n",
        "2. Defines a list of x-values from 0 to 10 (inclusive).\n",
        "3. Defines a list of y-values as the square of each x-value in the list.\n",
        "4. Uses the plot function to create a line plot of the x and y values.\n",
        "5. Labels the x-axis as \"x-axis\" and the y-axis as \"y-axis\".\n",
        "6. Sets the title of the plot as \"Line Plot\".\n",
        "7. Saves the plot as a PNG file named \"line_plot.png\".\n"
      ]
    },
    {
      "cell_type": "code",
      "execution_count": 24,
      "metadata": {
        "id": "GZn4nJugjPBp"
      },
      "outputs": [
        {
          "data": {
            "image/png": "[encoded data removed]",
            "text/plain": [
              "<Figure size 640x480 with 1 Axes>"
            ]
          },
          "metadata": {},
          "output_type": "display_data"
        }
      ],
      "source": [
        "import matplotlib.pyplot as plt\n",
        "\n",
        "x = list((range(11)))\n",
        "y = [i**2 for i in x]\n",
        "\n",
        "#print(x)\n",
        "#print(y)\n",
        "\n",
        "plt.plot(x,y)\n",
        "\n",
        "plt.xlabel(\"x-axis\")\n",
        "plt.ylabel(\"y-axis\")\n",
        "\n",
        "plt.title(\"Line PLot\")\n",
        "plt.savefig(\"line_plot.png\")\n",
        "\n",
        "plt.show()"
      ]
    },
    {
      "cell_type": "markdown",
      "metadata": {
        "id": "k0-Cx8_Uidk1"
      },
      "source": [
        "## Problem:  Bar chart\n",
        "Create a Python script that does the following:\n",
        "\n",
        "1. Imports the matplotlib.pyplot module as plt.\n",
        "2. Defines a list of labels as the names of five different fruits.\n",
        "3. Defines a list of values as the number of fruits in stock.\n",
        "4. Uses the bar function to create a bar chart of the labels and values.\n",
        "5. Labels the x-axis as \"Fruits\" and the y-axis as \"Stock\".\n",
        "6. Sets the title of the plot as \"Fruit Stock\".\n",
        "7. \n",
        "\n",
        "```\n",
        "# This is formatted as code\n",
        "```\n",
        "\n",
        "Saves the plot as a PNG file named \"bar_chart.png\".\n"
      ]
    },
    {
      "cell_type": "code",
      "execution_count": 25,
      "metadata": {
        "id": "Jog4NxE_jhtO"
      },
      "outputs": [
        {
          "data": {
            "image/png": "[encoded data removed]",
            "text/plain": [
              "<Figure size 640x480 with 1 Axes>"
            ]
          },
          "metadata": {},
          "output_type": "display_data"
        }
      ],
      "source": [
        "import matplotlib.pyplot as plt\n",
        "\n",
        "fruits = [\"Apples\", \"Bananas\", \"Cherries\", \"Oranges\", \"Grapes\"]\n",
        "stock = [50, 75, 30, 90, 45]\n",
        "\n",
        "plt.bar(fruits, stock)\n",
        "\n",
        "plt.xlabel(\"Fruits\")\n",
        "plt.ylabel(\"Stock\")\n",
        "plt.title(\"Fruit Stock\")\n",
        "\n",
        "plt.savefig(\"bar_chart.png\")\n",
        "\n",
        "plt.show()"
      ]
    },
    {
      "cell_type": "markdown",
      "metadata": {
        "id": "1ceo50S-jsXh"
      },
      "source": [
        "## Problem: Scatter Plot\n",
        "\n",
        "Create a Python script that does the following:\n",
        "\n",
        "1. Imports the matplotlib.pyplot module as plt.\n",
        "2.Defines two lists of values, x and y, each with ten randomly generated values between 0 and 1.\n",
        "4. Uses the scatter function to create a scatter plot of the x and y values.\n",
        "4,Labels the x-axis as \"x-axis\" and the y-axis as \"y-axis\".\n",
        "5. Sets the title of the plot as \"Scatter Plot\".\n",
        "6. Saves the plot as a PNG file named \"scatter_plot.png\"."
      ]
    },
    {
      "cell_type": "code",
      "execution_count": 28,
      "metadata": {
        "id": "0wg-8YDpjz__"
      },
      "outputs": [
        {
          "data": {
            "image/png": "[encoded data removed]",
            "text/plain": [
              "<Figure size 640x480 with 1 Axes>"
            ]
          },
          "metadata": {},
          "output_type": "display_data"
        }
      ],
      "source": [
        "import matplotlib.pyplot as plt\n",
        "import random\n",
        "\n",
        "x = [random.random() for a in range(10)]\n",
        "y = [random.random() for a in range(10)]\n",
        "\n",
        "plt.scatter(x, y)\n",
        "\n",
        "plt.xlabel(\"x-axis\")\n",
        "plt.ylabel(\"y-axis\")\n",
        "plt.title(\"Scatter Plot\")\n",
        "\n",
        "plt.savefig(\"scatter_plot.png\")\n",
        "\n",
        "plt.show()\n"
      ]
    },
    {
      "cell_type": "markdown",
      "metadata": {
        "id": "FF2EGm97j1rj"
      },
      "source": [
        "# Problem set Numpy Basics\n"
      ]
    },
    {
      "cell_type": "markdown",
      "metadata": {
        "id": "zn5REHJWj85_"
      },
      "source": [
        "## Problem 1: Creating Arrays\n",
        "Create a Python script that does the following:\n",
        "\n",
        "1. Imports the numpy module as np.\n",
        "1.Defines a 1-dimensional NumPy array of integers from 0 to 9 (inclusive).\n",
        "1.Defines a 2-dimensional NumPy array of integers with shape (2, 3) and with the following values:\n",
        "[[1, 2, 3],\n",
        " [4, 5, 6]]\n",
        "1.Prints the shape and data type of each array.\n",
        "\n",
        "Example output:\n",
        "\n",
        "1D array: [0 1 2 3 4 5 6 7 8 9]\n",
        "\n",
        "Shape: (10,)\n",
        "\n",
        "Data Type: int64\n",
        "\n",
        "2D array:\n",
        "\n",
        "[[1 2 3] \\\\\n",
        " [4 5 6]]\n",
        "\n",
        "Shape: (2, 3)\n",
        "\n",
        "Data Type: int64\n",
        "\n",
        "## Problem 2: Array Operations\n",
        "Create a Python script that does the following:\n",
        "\n",
        "1. Imports the numpy module as np.\n",
        "2. Defines two 1-dimensional NumPy arrays of integers with the same length.\n",
        "3. Computes the element-wise sum, difference, product, and quotient of the two arrays.\n",
        "4. Computes the dot product of the two arrays.\n",
        "5. Prints the results of each computation.\n",
        "\n",
        "Example output:\n",
        "\n",
        "\n",
        "Array 1: [1 2 3]\n",
        "\n",
        "Array 2: [4 5 6]\n",
        "\n",
        "Element-wise sum: [5 7 9]\n",
        "\n",
        "Element-wise difference: [-3 -3 -3]\n",
        "\n",
        "Element-wise product: [ 4 10 18]\n",
        "\n",
        "Element-wise quotient: [0.25 0.4 0.5]\n",
        "\n",
        "Dot product: 32\n",
        "\n",
        "# Problem 3: Array Indexing and Slicing\n",
        "Create a Python script that does the following:\n",
        "\n",
        "1.Imports the numpy module as np.\n",
        "2. Defines a 2-dimensional NumPy array of integers with shape (3, 3) and with the following values:\n",
        "\n",
        "[[1, 2, 3], \\\\\n",
        " [4, 5, 6], \\\\\n",
        " [7, 8, 9]] \n",
        "\n",
        "3. Uses indexing to print the value of the element in the second row and third column.\n",
        "4. Uses slicing to print the first two rows and first two columns of the array.\n",
        "5. Uses slicing to print the last two rows and last two columns of the array.\n",
        "6. Uses slicing to print the middle row and middle column of the array.\n",
        "\n",
        "\n",
        "# Problem 4: Random Number Generation\n",
        "Create a Python script that does the following:\n",
        "\n",
        "1. Imports the numpy module as np.\n",
        "2. Generates an array of 10 random integers between 1 and 100 (inclusive).\n",
        "3. Prints the array.\n",
        "4. Computes the mean and standard deviation of the array.\n",
        "5. Prints the mean and standard deviation"
      ]
    },
    {
      "cell_type": "code",
      "execution_count": 36,
      "metadata": {},
      "outputs": [
        {
          "name": "stdout",
          "output_type": "stream",
          "text": [
            "1D array: [0 1 2 3 4 5 6 7 8 9]\n",
            "Shape: (10,)\n",
            "Data Type: int64\n",
            "\n",
            "2D array:\n",
            " [[1 2 3]\n",
            " [4 5 6]]\n",
            "Shape: (2, 3)\n",
            "Data Type: int64\n"
          ]
        }
      ],
      "source": [
        "import numpy as np\n",
        "arr_1d = np.arange(10)\n",
        "arr_2d = np.array([[1, 2, 3], [4, 5, 6]])\n",
        "\n",
        "print(\"1D array:\", arr_1d)\n",
        "print(\"Shape:\", arr_1d.shape)\n",
        "print(\"Data Type:\", arr_1d.dtype)\n",
        "print(\"\\n2D array:\\n\", arr_2d)\n",
        "print(\"Shape:\", arr_2d.shape)\n",
        "print(\"Data Type:\", arr_2d.dtype)"
      ]
    },
    {
      "cell_type": "code",
      "execution_count": 37,
      "metadata": {},
      "outputs": [
        {
          "name": "stdout",
          "output_type": "stream",
          "text": [
            "\n",
            "Array 1: [1 2 3]\n",
            "Array 2: [4 5 6]\n",
            "Element-wise sum: [5 7 9]\n",
            "Element-wise difference: [-3 -3 -3]\n",
            "Element-wise product: [ 4 10 18]\n",
            "Element-wise quotient: [0.25 0.4  0.5 ]\n",
            "Dot product: 32\n"
          ]
        }
      ],
      "source": [
        "import numpy as np\n",
        "arr1 = np.array([1, 2, 3])\n",
        "arr2 = np.array([4, 5, 6])\n",
        "\n",
        "print(\"\\nArray 1:\", arr1)\n",
        "print(\"Array 2:\", arr2)\n",
        "print(\"Element-wise sum:\", arr1 + arr2)\n",
        "print(\"Element-wise difference:\", arr1 - arr2)\n",
        "print(\"Element-wise product:\", arr1 * arr2)\n",
        "print(\"Element-wise quotient:\", arr1 / arr2)\n",
        "print(\"Dot product:\", np.dot(arr1, arr2))"
      ]
    },
    {
      "cell_type": "code",
      "execution_count": 38,
      "metadata": {},
      "outputs": [
        {
          "name": "stdout",
          "output_type": "stream",
          "text": [
            "\n",
            "Element at second row, third column: 6\n",
            "First two rows and first two columns:\n",
            " [[1 2]\n",
            " [4 5]]\n",
            "Last two rows and last two columns:\n",
            " [[5 6]\n",
            " [8 9]]\n",
            "Middle row and middle column: 5\n"
          ]
        }
      ],
      "source": [
        "import numpy as np\n",
        "arr3 = np.array([[1, 2, 3], [4, 5, 6], [7, 8, 9]])\n",
        "print(\"\\nElement at second row, third column:\", arr3[1, 2])\n",
        "print(\"First two rows and first two columns:\\n\", arr3[:2, :2])\n",
        "print(\"Last two rows and last two columns:\\n\", arr3[1:, 1:])\n",
        "print(\"Middle row and middle column:\", arr3[1, 1])"
      ]
    },
    {
      "cell_type": "code",
      "execution_count": 39,
      "metadata": {},
      "outputs": [
        {
          "name": "stdout",
          "output_type": "stream",
          "text": [
            "Random array: [73  6 86 71 56 96  8 76 38 35]\n",
            "Mean: 54.5\n",
            "Standard Deviation: 29.934094273921165\n"
          ]
        }
      ],
      "source": [
        "import numpy as np\n",
        "rand_arr = np.random.randint(1, 101, 10)\n",
        "\n",
        "print(\"Random array:\", rand_arr)\n",
        "print(\"Mean:\", np.mean(rand_arr))\n",
        "print(\"Standard Deviation:\", np.std(rand_arr))\n"
      ]
    }
  ],
  "metadata": {
    "colab": {
      "provenance": []
    },
    "kernelspec": {
      "display_name": "Python 3",
      "name": "python3"
    },
    "language_info": {
      "codemirror_mode": {
        "name": "ipython",
        "version": 3
      },
      "file_extension": ".py",
      "mimetype": "text/x-python",
      "name": "python",
      "nbconvert_exporter": "python",
      "pygments_lexer": "ipython3",
      "version": "3.9.21"
    }
  },
  "nbformat": 4,
  "nbformat_minor": 0
}
